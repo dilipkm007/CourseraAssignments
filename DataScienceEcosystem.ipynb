{
 "cells": [
  {
   "cell_type": "markdown",
   "id": "5fa6deee-0be2-4f0d-9d10-495843a16c0b",
   "metadata": {},
   "source": [
    "<h1>Data Science Tools and Ecosystem</h1>"
   ]
  },
  {
   "cell_type": "markdown",
   "id": "58785dff-f199-483a-b83c-d5dee62841f1",
   "metadata": {},
   "source": [
    "In this notebook, Data Science Tools and Ecosystem are summarized."
   ]
  },
  {
   "cell_type": "markdown",
   "id": "ef9939f1-923a-47e8-83b4-45e6cd80ed34",
   "metadata": {},
   "source": [
    "Some of the popular languages that Data Scientists use are:\n",
    "\n",
    "<ol type=\"1\"><li> Python </li>\n",
    "<li> R </li></od>\n",
    "<li> Scala </li>\n",
    "<li> Julia </li>\n",
    "<li> JAVA </li>\n",
    "<li> C++ </li>\n",
    "</ol>\n"
   ]
  },
  {
   "cell_type": "markdown",
   "id": "155e5cea-899c-44e0-a0ba-58b31eb25ad2",
   "metadata": {},
   "source": [
    "Some of the commonly used libraries used by Data Scientists include:\n",
    "<ol>\n",
    "<li> Pandas </li>\n",
    "<li> Numpy </li>\n",
    "<li> Matplotlib </li>\n",
    "<li> Seaborn </li>\n",
    "\n",
    "</ol>"
   ]
  },
  {
   "cell_type": "markdown",
   "id": "7e84f416-ef64-48a1-8f00-18ba05ac2daa",
   "metadata": {},
   "source": [
    "<table>\n",
    "<tr><th>Data Science Tools</th></tr>\n",
    "    <tr><td>Python</td></tr>\n",
    "    <tr><td>Jupyter Notebook</td></tr>\n",
    "    <tr><td>Apache Spark</td></tr>\n",
    "    <tr><td>HadoopHDFS</td></tr>\n",
    "    <tr><td>Apache Airflow</td></tr>\n",
    "    <tr><td>Hue</td></tr>\n",
    "</table>"
   ]
  },
  {
   "cell_type": "markdown",
   "id": "f676fb20-f94c-4508-932b-a01e3d708760",
   "metadata": {},
   "source": [
    "<h3>Below are a few examples of evaluating arithmetic expressions in Python.</h3>\n",
    "<ol>\n",
    "    <li>Add: 2+3 = 5</li>\n",
    "    <li>Sub: 3-2 = 1</li>\n",
    "    <li>Mul: 2*3 = 6</li>\n",
    "    <li>Div: 4/2 = 2</li>\n",
    "</ol>"
   ]
  },
  {
   "cell_type": "code",
   "execution_count": 17,
   "id": "9d0b6c04-cde1-4d3d-81e6-bd176fd97164",
   "metadata": {},
   "outputs": [
    {
     "data": {
      "text/plain": [
       "17"
      ]
     },
     "execution_count": 17,
     "metadata": {},
     "output_type": "execute_result"
    }
   ],
   "source": [
    "#This a simple arithmetic expression to mutiply then add integers\n",
    "(3*4)+5"
   ]
  },
  {
   "cell_type": "code",
   "execution_count": 19,
   "id": "469b57f8-5b6f-4f55-93ac-6a2285473bbd",
   "metadata": {},
   "outputs": [
    {
     "data": {
      "text/plain": [
       "3.3333333333333335"
      ]
     },
     "execution_count": 19,
     "metadata": {},
     "output_type": "execute_result"
    }
   ],
   "source": [
    "#This will convert 200 minutes to hours by diving by 60\n",
    "hours = 200/60\n",
    "hours"
   ]
  },
  {
   "cell_type": "markdown",
   "id": "2f1bd4aa-9d98-400b-8f5e-3513a7b13fab",
   "metadata": {},
   "source": [
    "<b>Objectives:</b>\n",
    "<ul>\n",
    "    <li>List popular languages for Data Science</li>\n",
    "    <li>List popular libraries used by Data Scientists</li>\n",
    "    <li>Table popular Data Science tools</li>\n",
    "    <li>List basic arithmetic expressions</li>\n",
    "</ul>"
   ]
  },
  {
   "cell_type": "markdown",
   "id": "2d056b27-2a08-461d-8924-f999ce960688",
   "metadata": {},
   "source": [
    "<h2>Author</h2>\n",
    "Dilip"
   ]
  },
  {
   "cell_type": "code",
   "execution_count": null,
   "id": "6977db86-2aee-4870-a1a0-99df3020a1dc",
   "metadata": {},
   "outputs": [],
   "source": []
  }
 ],
 "metadata": {
  "kernelspec": {
   "display_name": "Python 3 (ipykernel)",
   "language": "python",
   "name": "python3"
  },
  "language_info": {
   "codemirror_mode": {
    "name": "ipython",
    "version": 3
   },
   "file_extension": ".py",
   "mimetype": "text/x-python",
   "name": "python",
   "nbconvert_exporter": "python",
   "pygments_lexer": "ipython3",
   "version": "3.11.4"
  }
 },
 "nbformat": 4,
 "nbformat_minor": 5
}
